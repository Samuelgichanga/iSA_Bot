{
 "cells": [
  {
   "cell_type": "markdown",
   "id": "cec517e6",
   "metadata": {
    "papermill": {
     "duration": 0.008345,
     "end_time": "2023-02-23T05:12:30.002085",
     "exception": false,
     "start_time": "2023-02-23T05:12:29.993740",
     "status": "completed"
    },
    "tags": []
   },
   "source": [
    "This notebook is pre trained model for creating chatbot with good accuracy for this dataset. However, Accuracy range will be different.\n",
    "\n",
    "You can add dataset with .csv file. But, you need to transfer your data json file into csv file format using python script. I tried it but don't seem to have converted successfully."
   ]
  },
  {
   "cell_type": "markdown",
   "id": "75cb48e6",
   "metadata": {
    "papermill": {
     "duration": 0.006345,
     "end_time": "2023-02-23T05:12:30.015531",
     "exception": false,
     "start_time": "2023-02-23T05:12:30.009186",
     "status": "completed"
    },
    "tags": []
   },
   "source": [
    "## **Import and load the data file**"
   ]
  },
  {
   "cell_type": "markdown",
   "id": "d7f5163a",
   "metadata": {
    "papermill": {
     "duration": 0.00643,
     "end_time": "2023-02-23T05:12:30.028720",
     "exception": false,
     "start_time": "2023-02-23T05:12:30.022290",
     "status": "completed"
    },
    "tags": []
   },
   "source": [
    "We import the necessary packages for our chatbot and initialize the variables we will use in our Python project.\n",
    "The data file is in JSON format so we used the json package to parse the JSON file into Python."
   ]
  },
  {
   "cell_type": "code",
   "execution_count": 1,
   "id": "0d91f7ee",
   "metadata": {
    "execution": {
     "iopub.execute_input": "2023-02-23T05:12:30.045104Z",
     "iopub.status.busy": "2023-02-23T05:12:30.044434Z",
     "iopub.status.idle": "2023-02-23T05:12:32.381685Z",
     "shell.execute_reply": "2023-02-23T05:12:32.379943Z"
    },
    "id": "09b08e4f",
    "outputId": "930efa0a-cb9d-4527-d869-6b432af79909",
    "papermill": {
     "duration": 2.350917,
     "end_time": "2023-02-23T05:12:32.386449",
     "exception": false,
     "start_time": "2023-02-23T05:12:30.035532",
     "status": "completed"
    },
    "tags": []
   },
   "outputs": [
    {
     "name": "stderr",
     "output_type": "stream",
     "text": [
      "[nltk_data] Downloading package punkt to\n",
      "[nltk_data]     C:\\Users\\gicha\\AppData\\Roaming\\nltk_data...\n",
      "[nltk_data]   Package punkt is already up-to-date!\n"
     ]
    },
    {
     "data": {
      "text/plain": [
       "True"
      ]
     },
     "execution_count": 1,
     "metadata": {},
     "output_type": "execute_result"
    }
   ],
   "source": [
    "import nltk\n",
    "nltk.download('punkt')#Sentence tokenizer"
   ]
  },
  {
   "cell_type": "code",
   "execution_count": 2,
   "id": "d3775770",
   "metadata": {
    "execution": {
     "iopub.execute_input": "2023-02-23T05:12:32.405254Z",
     "iopub.status.busy": "2023-02-23T05:12:32.404732Z",
     "iopub.status.idle": "2023-02-23T05:12:32.411034Z",
     "shell.execute_reply": "2023-02-23T05:12:32.409821Z"
    },
    "id": "37932349",
    "papermill": {
     "duration": 0.018099,
     "end_time": "2023-02-23T05:12:32.414377",
     "exception": false,
     "start_time": "2023-02-23T05:12:32.396278",
     "status": "completed"
    },
    "tags": []
   },
   "outputs": [],
   "source": [
    "import nltk\n",
    "from nltk.stem import WordNetLemmatizer\n",
    "lemmatizer = WordNetLemmatizer()\n",
    "import json\n",
    "import pickle\n",
    "import warnings\n",
    "warnings.filterwarnings('ignore')"
   ]
  },
  {
   "cell_type": "code",
   "execution_count": 3,
   "id": "577ce419",
   "metadata": {
    "execution": {
     "iopub.execute_input": "2023-02-23T05:12:32.433933Z",
     "iopub.status.busy": "2023-02-23T05:12:32.432635Z",
     "iopub.status.idle": "2023-02-23T05:12:41.199368Z",
     "shell.execute_reply": "2023-02-23T05:12:41.197655Z"
    },
    "id": "29f7ae99",
    "papermill": {
     "duration": 8.780125,
     "end_time": "2023-02-23T05:12:41.202711",
     "exception": false,
     "start_time": "2023-02-23T05:12:32.422586",
     "status": "completed"
    },
    "tags": []
   },
   "outputs": [
    {
     "name": "stdout",
     "output_type": "stream",
     "text": [
      "WARNING:tensorflow:From C:\\Users\\gicha\\anaconda3\\lib\\site-packages\\keras\\src\\losses.py:2976: The name tf.losses.sparse_softmax_cross_entropy is deprecated. Please use tf.compat.v1.losses.sparse_softmax_cross_entropy instead.\n",
      "\n"
     ]
    }
   ],
   "source": [
    "import numpy as np\n",
    "import tensorflow as tf\n",
    "from keras.models import Sequential\n",
    "from keras.layers import Dense, Activation, Dropout\n",
    "from tensorflow.keras.optimizers import SGD\n",
    "import random"
   ]
  },
  {
   "cell_type": "markdown",
   "id": "4164ac69",
   "metadata": {
    "id": "0ec5134c",
    "papermill": {
     "duration": 0.006582,
     "end_time": "2023-02-23T05:12:41.216356",
     "exception": false,
     "start_time": "2023-02-23T05:12:41.209774",
     "status": "completed"
    },
    "tags": []
   },
   "source": [
    "# **Preprocessing**"
   ]
  },
  {
   "cell_type": "code",
   "execution_count": 4,
   "id": "bb20a5e6",
   "metadata": {
    "execution": {
     "iopub.execute_input": "2023-02-23T05:12:41.233240Z",
     "iopub.status.busy": "2023-02-23T05:12:41.232416Z",
     "iopub.status.idle": "2023-02-23T05:12:41.255943Z",
     "shell.execute_reply": "2023-02-23T05:12:41.254538Z"
    },
    "id": "2a27b3fe",
    "papermill": {
     "duration": 0.035369,
     "end_time": "2023-02-23T05:12:41.258823",
     "exception": false,
     "start_time": "2023-02-23T05:12:41.223454",
     "status": "completed"
    },
    "tags": []
   },
   "outputs": [],
   "source": [
    "words=[]\n",
    "classes = []\n",
    "documents = []\n",
    "ignore_words = ['?', '!']\n",
    "data_file = open('intents.json').read() # read json file\n",
    "intents = json.loads(data_file) # load json file"
   ]
  },
  {
   "cell_type": "markdown",
   "id": "b03092c9",
   "metadata": {
    "papermill": {
     "duration": 0.006562,
     "end_time": "2023-02-23T05:12:41.272370",
     "exception": false,
     "start_time": "2023-02-23T05:12:41.265808",
     "status": "completed"
    },
    "tags": []
   },
   "source": [
    "When working with text data, we need to perform various preprocessing on the data before we make a machine learning or a deep learning model. Based on the requirements we need to apply various operations to preprocess the \n",
    "data.\n",
    "- Tokenizing is the most basic and first thing you can do on text data. \n",
    "- Tokenizing is the process of breaking the whole text into small parts like words.\n",
    "- Here we iterate through the patterns and tokenize the sentence using nltk.word_tokenize() function and append each word in the words list. We also create a list of classes for our tags."
   ]
  },
  {
   "cell_type": "code",
   "execution_count": 5,
   "id": "636dbf65",
   "metadata": {
    "execution": {
     "iopub.execute_input": "2023-02-23T05:12:41.288695Z",
     "iopub.status.busy": "2023-02-23T05:12:41.287939Z",
     "iopub.status.idle": "2023-02-23T05:12:41.346680Z",
     "shell.execute_reply": "2023-02-23T05:12:41.345412Z"
    },
    "id": "d1fce670",
    "papermill": {
     "duration": 0.070578,
     "end_time": "2023-02-23T05:12:41.349850",
     "exception": false,
     "start_time": "2023-02-23T05:12:41.279272",
     "status": "completed"
    },
    "tags": []
   },
   "outputs": [],
   "source": [
    "for intent in intents['intents']:\n",
    "    for pattern in intent['patterns']:\n",
    "        #tokenize each word\n",
    "        w = nltk.word_tokenize(pattern)\n",
    "        words.extend(w)# add each elements into list\n",
    "        #combination between patterns and intents\n",
    "        documents.append((w, intent['tag']))#add single element into end of list\n",
    "        # add to tag in our classes list\n",
    "        if intent['tag'] not in classes:\n",
    "            classes.append(intent['tag'])"
   ]
  },
  {
   "cell_type": "code",
   "execution_count": 6,
   "id": "6c496469",
   "metadata": {
    "execution": {
     "iopub.execute_input": "2023-02-23T05:12:41.365949Z",
     "iopub.status.busy": "2023-02-23T05:12:41.365483Z",
     "iopub.status.idle": "2023-02-23T05:12:41.453466Z",
     "shell.execute_reply": "2023-02-23T05:12:41.451892Z"
    },
    "id": "caf5ffe1",
    "outputId": "97496bb7-e2d7-4243-d2a7-b7512e192458",
    "papermill": {
     "duration": 0.099728,
     "end_time": "2023-02-23T05:12:41.456789",
     "exception": false,
     "start_time": "2023-02-23T05:12:41.357061",
     "status": "completed"
    },
    "tags": []
   },
   "outputs": [
    {
     "name": "stderr",
     "output_type": "stream",
     "text": [
      "[nltk_data] Downloading package wordnet to\n",
      "[nltk_data]     C:\\Users\\gicha\\AppData\\Roaming\\nltk_data...\n",
      "[nltk_data]   Package wordnet is already up-to-date!\n"
     ]
    },
    {
     "data": {
      "text/plain": [
       "True"
      ]
     },
     "execution_count": 6,
     "metadata": {},
     "output_type": "execute_result"
    }
   ],
   "source": [
    "nltk.download('wordnet') #lexical database for the English language"
   ]
  },
  {
   "cell_type": "code",
   "execution_count": 7,
   "id": "8826e696",
   "metadata": {
    "execution": {
     "iopub.execute_input": "2023-02-23T05:12:41.473353Z",
     "iopub.status.busy": "2023-02-23T05:12:41.472806Z",
     "iopub.status.idle": "2023-02-23T05:12:41.933784Z",
     "shell.execute_reply": "2023-02-23T05:12:41.932370Z"
    },
    "id": "1bdda46f",
    "outputId": "52603b6e-b9b7-4de9-b8ae-16edbdceea76",
    "papermill": {
     "duration": 0.472743,
     "end_time": "2023-02-23T05:12:41.936812",
     "exception": false,
     "start_time": "2023-02-23T05:12:41.464069",
     "status": "completed"
    },
    "tags": []
   },
   "outputs": [
    {
     "name": "stderr",
     "output_type": "stream",
     "text": [
      "[nltk_data] Downloading package omw-1.4 to\n",
      "[nltk_data]     C:\\Users\\gicha\\AppData\\Roaming\\nltk_data...\n",
      "[nltk_data]   Package omw-1.4 is already up-to-date!\n"
     ]
    },
    {
     "data": {
      "text/plain": [
       "True"
      ]
     },
     "execution_count": 7,
     "metadata": {},
     "output_type": "execute_result"
    }
   ],
   "source": [
    "nltk.download('omw-1.4')"
   ]
  },
  {
   "cell_type": "markdown",
   "id": "33220daa",
   "metadata": {
    "papermill": {
     "duration": 0.006918,
     "end_time": "2023-02-23T05:12:41.951630",
     "exception": false,
     "start_time": "2023-02-23T05:12:41.944712",
     "status": "completed"
    },
    "tags": []
   },
   "source": [
    "Now we will lemmatize each word and remove duplicate words from the list. \n",
    "- Lemmatizing is the process of converting a word into its lemma form and then creating a pickle file to store the Python objects which we will use while predicting."
   ]
  },
  {
   "cell_type": "code",
   "execution_count": 8,
   "id": "ea121ce6",
   "metadata": {
    "execution": {
     "iopub.execute_input": "2023-02-23T05:12:41.968467Z",
     "iopub.status.busy": "2023-02-23T05:12:41.967918Z",
     "iopub.status.idle": "2023-02-23T05:12:44.148161Z",
     "shell.execute_reply": "2023-02-23T05:12:44.146037Z"
    },
    "id": "6dbaf343",
    "outputId": "155e2bb5-52bc-4273-f968-767921210285",
    "papermill": {
     "duration": 2.192283,
     "end_time": "2023-02-23T05:12:44.151229",
     "exception": false,
     "start_time": "2023-02-23T05:12:41.958946",
     "status": "completed"
    },
    "tags": []
   },
   "outputs": [
    {
     "name": "stdout",
     "output_type": "stream",
     "text": [
      "448 documents\n",
      " [(['When', 'did', 'Iserve', 'Africa', 'begin', '?'], 'begin'), (['Could', 'you', 'share', 'your', 'testimony', '?'], 'Testimony_experiences_stories'), (['What', \"'s\", 'your', 'personal', 'journey', 'with', 'faith', '?'], 'Testimony_experiences_stories'), (['Do', 'you', 'have', 'a', 'personal', 'testimony', 'to', 'share', '?'], 'Testimony_experiences_stories'), (['How', 'did', 'iServe', 'Africa', 'start', '?'], 'History'), (['What', 'is', 'the', 'history', 'behind', 'iServe', 'Africa', '?'], 'History'), (['Can', 'you', 'tell', 'me', 'about', 'the', 'beginnings', 'of', 'iServe', 'Africa', '?'], 'History'), (['How', 'can', 'I', 'get', 'in', 'touch', 'with', 'iServe', 'Africa', '?'], 'Contact_email'), (['What', 'are', 'the', 'contact', 'details', 'for', 'iServe', 'Africa', '?'], 'Contact_email'), (['Can', 'you', 'provide', 'me', 'with', 'the', 'contact', 'information', 'of', 'iServe', 'Africa', '?'], 'Contact_email'), (['about', 'iServe', 'Africa'], 'about'), (['background', 'of', 'iServe', 'Africa'], 'about'), (['mission', 'of', 'iServe', 'Africa'], 'about'), (['what', 'is', 'iServe', 'Africa'], 'about'), (['tell', 'me', 'about', 'iServe', 'Africa'], 'about'), (['vision', 'and', 'mission'], 'vision_mission'), (['purpose', 'of', 'iServe', 'Africa'], 'vision_mission'), (['what', 'does', 'iServe', 'Africa', 'aim', 'for'], 'vision_mission'), (['what', 'is', 'the', 'mission', 'of', 'iServe', 'Africa'], 'vision_mission'), (['Utumishi', 'Course'], 'utumishi_course'), (['apprenticeship', 'program', 'details'], 'utumishi_course'), (['what', 'is', 'Utumishi', 'Course'], 'utumishi_course'), (['tell', 'me', 'about', 'the', 'apprenticeship', 'program'], 'utumishi_course'), (['experience', 'as', 'an', 'apprentice'], 'apprenticeship_benefits_experience'), (['benefits', 'of', 'apprenticeship'], 'apprenticeship_benefits_experience'), (['what', 'can', 'I', 'gain', 'as', 'an', 'apprentice'], 'apprenticeship_benefits_experience'), (['why', 'should', 'I', 'join', 'the', 'apprenticeship', 'program'], 'apprenticeship_benefits_experience'), (['founding', 'of', 'iServe', 'Africa'], 'history'), (['history', 'of', 'iServe', 'Africa'], 'history'), (['how', 'did', 'iServe', 'Africa', 'start'], 'history'), (['tell', 'me', 'about', 'the', 'origins', 'of', 'iServe', 'Africa'], 'history'), (['legal', 'registration'], 'legal_registration'), (['registration', 'process'], 'legal_registration'), (['how', 'was', 'iServe', 'Africa', 'registered'], 'legal_registration'), (['tell', 'me', 'about', 'iServe', 'Africa', \"'s\", 'legal', 'status'], 'legal_registration'), (['partnerships'], 'partnerships_support_funding'), (['support', 'for', 'iServe', 'Africa'], 'partnerships_support_funding'), (['how', 'does', 'iServe', 'Africa', 'receive', 'support'], 'partnerships_support_funding'), (['tell', 'me', 'about', 'iServe', 'Africa', \"'s\", 'partnerships'], 'partnerships_support_funding'), (['ministry', 'nature'], 'nature'), (['nature', 'of', 'ministry'], 'nature'), (['what', 'is', 'the', 'nature', 'of', 'iServe', 'Africa', \"'s\", 'ministry'], 'nature'), (['tell', 'me', 'about', 'iServe', 'Africa', \"'s\", 'approach', 'to', 'ministry'], 'nature'), (['impact', 'of', 'iServe', 'Africa'], 'impact'), (['contribution', 'of', 'iServe', 'Africa'], 'impact'), (['how', 'has', 'iServe', 'Africa', 'made', 'a', 'difference'], 'impact'), (['tell', 'me', 'about', 'iServe', 'Africa', \"'s\", 'impact'], 'impact'), (['community', 'immersion'], 'community_immersion'), (['role', 'in', 'local', 'communities'], 'community_immersion'), (['how', 'does', 'iServe', 'Africa', 'engage', 'with', 'local', 'communities'], 'community_immersion'), (['tell', 'me', 'about', 'iServe', 'Africa', \"'s\", 'involvement', 'in', 'communities'], 'community_immersion'), (['values', 'of', 'iServe', 'Africa'], 'values'), (['core', 'values'], 'values'), (['what', 'are', 'iServe', 'Africa', \"'s\", 'values'], 'values'), (['tell', 'me', 'about', 'iServe', 'Africa', \"'s\", 'core', 'values'], 'values'), (['What', 'is', 'iServe', 'Africa', 'about', '?'], 'Introduction'), (['Tell', 'me', 'about', 'iServe', 'Africa', '.'], 'Introduction'), (['What', 'does', 'iServe', 'Africa', 'believe', '?'], 'Statement of Faith'), (['Can', 'you', 'tell', 'me', 'about', 'the', 'beliefs', 'of', 'iServe', 'Africa', '?'], 'Statement of Faith'), (['What', 'is', 'the', 'mission', 'of', 'iServe', 'Africa', '?'], 'Mission and Vision'), (['What', 'is', 'the', 'vision', 'of', 'iServe', 'Africa', '?'], 'Mission and Vision'), (['What', 'are', 'the', 'core', 'values', 'of', 'iServe', 'Africa', '?'], 'Core Values'), (['Tell', 'me', 'about', 'the', 'values', 'of', 'iServe', 'Africa', '.'], 'Core Values'), (['How', 'can', 'I', 'contact', 'iServe', 'Africa', '?'], 'Copyright and Contact'), (['Is', 'there', 'any', 'copyright', 'information', 'available', '?'], 'Copyright and Contact'), (['Are', 'there', 'any', 'workshops', 'or', 'conferences', 'conducted', 'by', 'iServe', 'Africa', '?'], 'Workshops and Conferences'), (['Tell', 'me', 'about', 'workshops', 'and', 'conferences', 'organized', 'by', 'iServe', 'Africa', '.'], 'Workshops and Conferences'), (['What', 'is', 'the', 'evangelical', 'basis', 'of', 'iServe', 'Africa', '?'], 'Evangelical Basis'), (['Can', 'you', 'explain', 'the', 'evangelical', 'basis', 'of', 'iServe', 'Africa', '?'], 'Evangelical Basis'), (['Does', 'iServe', 'Africa', 'focus', 'on', 'Bible', 'teaching', '?'], 'Bible Teaching'), (['Tell', 'me', 'about', 'the', 'emphasis', 'on', 'Bible', 'teaching', 'by', 'iServe', 'Africa', '.'], 'Bible Teaching'), (['How', 'important', 'is', 'prayer', 'for', 'iServe', 'Africa', '?'], 'Prayer'), (['Tell', 'me', 'about', 'the', 'role', 'of', 'prayer', 'in', 'iServe', 'Africa', '.'], 'Prayer'), (['Does', 'iServe', 'Africa', 'focus', 'on', 'community', 'immersion', '?'], 'Community Immersion'), (['Tell', 'me', 'about', 'the', 'approach', 'of', 'iServe', 'Africa', 'towards', 'community', 'immersion', '.'], 'Community Immersion'), (['How', 'does', 'iServe', 'Africa', 'ensure', 'accountability', '?'], 'Accountability'), (['Tell', 'me', 'about', 'the', 'accountability', 'practices', 'of', 'iServe', 'Africa', '.'], 'Accountability'), (['iServe', 'Africa'], 'about_iserveafrica'), (['about', 'iServe', 'Africa'], 'about_iserveafrica'), (['leadership', 'and', 'governance'], 'about_iserveafrica'), (['governance', 'structure'], 'about_iserveafrica'), (['board', 'of', 'directors'], 'about_iserveafrica'), (['executive', 'director'], 'about_iserveafrica'), (['board', 'members'], 'board_members'), (['who', 'are', 'the', 'board', 'members'], 'board_members'), (['board', 'of', 'directors', 'members'], 'board_members'), (['leadership', 'team'], 'board_members'), (['contact'], 'contact_information'), (['contact', 'information'], 'contact_information'), (['how', 'to', 'reach'], 'contact_information'), (['location'], 'contact_information'), (['iServe', 'Africa', 'UK', 'Trust'], 'uk_funding'), (['funding'], 'uk_funding'), (['UK', 'charity'], 'uk_funding'), (['tax-efficient', 'giving'], 'uk_funding'), (['channel', 'for', 'funding'], 'uk_funding'), (['copyright'], 'copyright'), (['all', 'rights', 'reserved'], 'copyright'), (['mission'], 'mission_statement'), (['purpose'], 'mission_statement'), (['aim'], 'mission_statement'), (['ministry', 'training', 'courses'], 'program_details'), (['placements'], 'program_details'), (['training', 'curriculum'], 'program_details'), (['one-year', 'program'], 'program_details'), (['types', 'of', 'placements'], 'placement_types'), (['where', 'apprentices', 'serve'], 'placement_types'), (['placement', 'locations'], 'placement_types'), (['churches'], 'placement_types'), (['hospitals'], 'placement_types'), (['schools'], 'placement_types'), (['children', \"'s\", 'homes'], 'placement_types'), (['CBOs'], 'placement_types'), (['mission', 'agencies'], 'placement_types'), (['apprentice', 'experiences'], 'apprentice_testimonials'), (['apprentice', 'testimonials'], 'apprentice_testimonials'), (['feedback', 'from', 'apprentices'], 'apprentice_testimonials'), (['what', 'apprentices', 'say'], 'apprentice_testimonials'), (['how', 'to', 'apply', 'for', 'the', 'program'], 'program_application'), (['program', 'application', 'process'], 'program_application'), (['application', 'requirements'], 'program_application'), (['benefits', 'of', 'the', 'program'], 'program_benefits'), (['what', 'apprentices', 'gain'], 'program_benefits'), (['skills', 'development'], 'program_benefits'), (['ministry', 'experience'], 'program_benefits'), (['future', 'opportunities'], 'program_future'), (['career', 'prospects'], 'program_future'), (['next', 'steps', 'after', 'the', 'program'], 'program_future'), (['post-apprenticeship', 'pathways'], 'program_future'), (['TransformD', 'Discipleship', 'Programme'], 'discipleship_program'), (['TransformD'], 'discipleship_program'), (['discipleship', 'training'], 'discipleship_program'), (['character', 'development'], 'discipleship_program'), (['passion', 'for', 'Christ'], 'discipleship_program'), (['contact', 'information'], 'contact_details'), (['how', 'to', 'reach'], 'contact_details'), (['call'], 'contact_details'), (['email'], 'contact_details'), (['visit'], 'contact_details'), (['cross-cultural', 'mission', 'experience'], 'cross_cultural_experience'), (['evangelism'], 'cross_cultural_experience'), (['VBS'], 'cross_cultural_experience'), (['youth', 'camp'], 'cross_cultural_experience'), (['mission', 'trip'], 'cross_cultural_experience'), (['sign', 'up'], 'application_process'), (['application', 'form'], 'application_process'), (['recruitment'], 'application_process'), (['how', 'to', 'apply'], 'application_process'), (['application', 'requirements'], 'application_process'), (['mentorship'], 'mentorship'), (['mentor', 'sessions'], 'mentorship'), (['life', 'matters'], 'mentorship'), (['experiences', 'sharing'], 'mentorship'), (['what', 'we', 'offer'], 'program_benefits'), (['program', 'benefits'], 'program_benefits'), (['life', 'skills', 'training'], 'program_benefits'), (['crucial', 'skills'], 'program_benefits'), (['personal', 'development'], 'program_benefits'), (['participant', 'testimonials'], 'participant_testimonials'), (['feedback', 'from', 'participants'], 'participant_testimonials'), (['lessons', 'learned'], 'participant_testimonials'), (['impact', 'of', 'the', 'program'], 'participant_testimonials'), (['program', 'duration'], 'program_duration'), (['length', 'of', 'the', 'program'], 'program_duration'), (['timeline'], 'program_duration'), (['program', 'content'], 'program_content'), (['what', 'we', 'teach'], 'program_content'), (['lessons', 'taught'], 'program_content'), (['training', 'topics'], 'program_content'), (['life', 'after', 'the', 'program'], 'post_program_impact'), (['post-program', 'impact'], 'post_program_impact'), (['career', 'paths'], 'post_program_impact'), (['future', 'opportunities'], 'post_program_impact'), (['regional', 'ministry', 'staff'], 'regional_ministry_staff'), (['staff', 'members'], 'regional_ministry_staff'), (['team', 'members'], 'regional_ministry_staff'), (['contact', 'information'], 'regional_ministry_staff'), (['placements'], 'placements'), (['placement', 'opportunities'], 'placements'), (['internships'], 'placements'), (['work', 'opportunities'], 'placements'), (['apprentices'], 'apprentices'), (['apprenticeship', 'program'], 'apprentices'), (['training', 'opportunities'], 'apprentices'), (['apprenticeship', 'intake'], 'apprentices'), (['total', 'placements'], 'total_stats'), (['total', 'apprentices'], 'total_stats'), (['total', 'regions'], 'total_stats'), (['program', 'statistics'], 'total_stats'), (['program', 'overview'], 'total_stats'), (['September', 'intake', 'apprentices'], 'intake_info'), (['January', 'intake', 'apprentices'], 'intake_info'), (['apprenticeship', 'intakes'], 'intake_info'), (['intake', 'schedules'], 'intake_info'), (['individual', 'staff', 'information'], 'individual_staff_info'), (['staff', 'roles'], 'individual_staff_info'), (['staff', 'responsibilities'], 'individual_staff_info'), (['staff', 'emails'], 'individual_staff_info'), (['world', 'mission', 'prayers'], 'world_mission_prayers'), (['prayer', 'gatherings'], 'world_mission_prayers'), (['prayer', 'initiatives'], 'world_mission_prayers'), (['mission', 'conferences'], 'mission_conferences'), (['annual', 'conferences'], 'mission_conferences'), (['missions', 'events'], 'mission_conferences'), (['strategic', 'resources'], 'strategic_resources'), (['organizational', 'resources'], 'strategic_resources'), (['partnerships'], 'strategic_resources'), (['global', 'mission', 'roles'], 'strategic_resources'), (['frontier', 'mission', 'work'], 'frontier_mission_work'), (['long', 'term', 'missions'], 'frontier_mission_work'), (['cross-cultural', 'missions'], 'frontier_mission_work'), (['norec', 'project'], 'norec_project'), (['global', 'link', 'afrika', 'partnership'], 'norec_project'), (['healthcare', 'exchange', 'program'], 'norec_project'), (['missionary', 'support'], 'missionary_support'), (['supporting', 'missionaries'], 'missionary_support'), (['financial', 'support'], 'missionary_support'), (['care', 'packages'], 'missionary_support'), (['prayer', 'initiatives'], 'prayer_initiatives'), (['daily', 'prayers'], 'prayer_initiatives'), (['prayer', 'groups'], 'prayer_initiatives'), (['expository', 'preaching'], 'expository_preaching'), (['training', 'for', 'trainers', 'conference'], 'expository_preaching'), (['preaching', 'workshops'], 'expository_preaching'), (['world', 'mission', 'prayers'], 'world_mission_prayers'), (['prayer', 'gatherings'], 'world_mission_prayers'), (['prayer', 'initiatives'], 'world_mission_prayers'), (['mission', 'conferences'], 'mission_conferences'), (['annual', 'conferences'], 'mission_conferences'), (['missions', 'events'], 'mission_conferences'), (['strategic', 'resources'], 'strategic_resources'), (['organizational', 'resources'], 'strategic_resources'), (['partnerships'], 'strategic_resources'), (['global', 'mission', 'roles'], 'strategic_resources'), (['frontier', 'mission', 'work'], 'frontier_mission_work'), (['long', 'term', 'missions'], 'frontier_mission_work'), (['cross-cultural', 'missions'], 'frontier_mission_work'), (['norec', 'project'], 'norec_project'), (['global', 'link', 'afrika', 'partnership'], 'norec_project'), (['healthcare', 'exchange', 'program'], 'norec_project'), (['missionary', 'support'], 'missionary_support'), (['supporting', 'missionaries'], 'missionary_support'), (['financial', 'support'], 'missionary_support'), (['care', 'packages'], 'missionary_support'), (['prayer', 'initiatives'], 'prayer_initiatives'), (['daily', 'prayers'], 'prayer_initiatives'), (['prayer', 'groups'], 'prayer_initiatives'), (['expository', 'preaching'], 'expository_preaching'), (['training', 'for', 'trainers', 'conference'], 'expository_preaching'), (['preaching', 'workshops'], 'expository_preaching'), (['missionary', 'training'], 'missionary_training'), (['missionary', 'preparation'], 'missionary_training'), (['missionary', 'courses'], 'missionary_training'), (['missionary', 'workshops'], 'missionary_training'), (['cross-cultural', 'missions'], 'cross_cultural_missions'), (['cultural', 'exchange', 'programs'], 'cross_cultural_missions'), (['international', 'missions'], 'cross_cultural_missions'), (['missionary', 'placement'], 'missionary_placement'), (['missionary', 'opportunities'], 'missionary_placement'), (['missionary', 'assignments'], 'missionary_placement'), (['missionary', 'mentorship'], 'missionary_mentorship'), (['mentorship', 'program'], 'missionary_mentorship'), (['missionary', 'guidance'], 'missionary_mentorship'), (['world', 'mission', 'prayers'], 'world_mission_prayers'), (['prayer', 'gatherings'], 'world_mission_prayers'), (['prayer', 'initiatives'], 'world_mission_prayers'), (['mission', 'conferences'], 'mission_conferences'), (['annual', 'conferences'], 'mission_conferences'), (['missions', 'events'], 'mission_conferences'), (['strategic', 'resources'], 'strategic_resources'), (['organizational', 'resources'], 'strategic_resources'), (['partnerships'], 'strategic_resources'), (['global', 'mission', 'roles'], 'strategic_resources'), (['frontier', 'mission', 'work'], 'frontier_mission_work'), (['long', 'term', 'missions'], 'frontier_mission_work'), (['cross-cultural', 'missions'], 'frontier_mission_work'), (['norec', 'project'], 'norec_project'), (['global', 'link', 'afrika', 'partnership'], 'norec_project'), (['healthcare', 'exchange', 'program'], 'norec_project'), (['missionary', 'support'], 'missionary_support'), (['supporting', 'missionaries'], 'missionary_support'), (['financial', 'support'], 'missionary_support'), (['care', 'packages'], 'missionary_support'), (['prayer', 'initiatives'], 'prayer_initiatives'), (['daily', 'prayers'], 'prayer_initiatives'), (['prayer', 'groups'], 'prayer_initiatives'), (['expository', 'preaching'], 'expository_preaching'), (['training', 'for', 'trainers', 'conference'], 'expository_preaching'), (['preaching', 'workshops'], 'expository_preaching'), (['world', 'mission', 'prayers'], 'world_mission_prayers'), (['prayer', 'gatherings'], 'world_mission_prayers'), (['prayer', 'initiatives'], 'world_mission_prayers'), (['mission', 'conferences'], 'mission_conferences'), (['annual', 'conferences'], 'mission_conferences'), (['missions', 'events'], 'mission_conferences'), (['strategic', 'resources'], 'strategic_resources'), (['organizational', 'resources'], 'strategic_resources'), (['partnerships'], 'strategic_resources'), (['global', 'mission', 'roles'], 'strategic_resources'), (['frontier', 'mission', 'work'], 'frontier_mission_work'), (['long', 'term', 'missions'], 'frontier_mission_work'), (['cross-cultural', 'missions'], 'frontier_mission_work'), (['norec', 'project'], 'norec_project'), (['global', 'link', 'afrika', 'partnership'], 'norec_project'), (['healthcare', 'exchange', 'program'], 'norec_project'), (['missionary', 'support'], 'missionary_support'), (['supporting', 'missionaries'], 'missionary_support'), (['financial', 'support'], 'missionary_support'), (['care', 'packages'], 'missionary_support'), (['prayer', 'initiatives'], 'prayer_initiatives'), (['daily', 'prayers'], 'prayer_initiatives'), (['prayer', 'groups'], 'prayer_initiatives'), (['expository', 'preaching'], 'expository_preaching'), (['training', 'for', 'trainers', 'conference'], 'expository_preaching'), (['preaching', 'workshops'], 'expository_preaching'), (['missionary', 'training'], 'missionary_training'), (['missionary', 'preparation'], 'missionary_training'), (['missionary', 'courses'], 'missionary_training'), (['missionary', 'workshops'], 'missionary_training'), (['cross-cultural', 'missions'], 'cross_cultural_missions'), (['cultural', 'exchange', 'programs'], 'cross_cultural_missions'), (['international', 'missions'], 'cross_cultural_missions'), (['missionary', 'placement'], 'missionary_placement'), (['missionary', 'opportunities'], 'missionary_placement'), (['missionary', 'assignments'], 'missionary_placement'), (['missionary', 'mentorship'], 'missionary_mentorship'), (['mentorship', 'program'], 'missionary_mentorship'), (['missionary', 'guidance'], 'missionary_mentorship'), (['apprenticeship', 'programme'], 'apprenticeship_programme'), (['training', 'sessions'], 'apprenticeship_programme'), (['induction', 'workshops'], 'apprenticeship_programme'), (['gospel', 'partnership'], 'gospel_partnership'), (['partnership', 'model'], 'gospel_partnership'), (['partnership', 'in', 'missions'], 'gospel_partnership'), (['training', 'centre', 'project'], 'training_centre_project'), (['fundraising', 'project'], 'training_centre_project'), (['support', 'initiative'], 'training_centre_project'), (['stewardship', 'plan'], 'stewardship_plan'), (['long-term', 'investment'], 'stewardship_plan'), (['financial', 'commitment'], 'stewardship_plan'), (['partnership', 'commitment'], 'partnership_commitment'), (['partnering', 'with', 'us'], 'partnership_commitment'), (['partnership', 'form'], 'partnership_commitment'), (['training', 'materials'], 'training_materials'), (['audio', 'recordings'], 'training_materials'), (['workshop', 'sessions'], 'training_materials'), (['partnership', 'model'], 'partnership_model'), (['philosophy', 'of', 'partnership'], 'partnership_model'), (['collaborative', 'approach'], 'partnership_model'), (['mission', 'support'], 'mission_support'), (['financial', 'assistance'], 'mission_support'), (['prayer', 'partnership'], 'mission_support'), (['fundraising', 'initiative'], 'fundraising_initiative'), (['support', 'campaign'], 'fundraising_initiative'), (['donation', 'drive'], 'fundraising_initiative'), (['leadership', 'training'], 'leadership_training'), (['servant', 'leadership', 'development'], 'leadership_training'), (['mentoring', 'program'], 'leadership_training'), (['ministry', 'expansion'], 'ministry_expansion'), (['growth', 'strategy'], 'ministry_expansion'), (['expanding', 'outreach'], 'ministry_expansion'), (['community', 'engagement'], 'community_engagement'), (['local', 'outreach'], 'community_engagement'), (['grassroots', 'initiatives'], 'community_engagement'), (['impact', 'evaluation'], 'impact_evaluation'), (['program', 'assessment'], 'impact_evaluation'), (['effectiveness', 'review'], 'impact_evaluation'), (['youth', 'empowerment'], 'youth_empowerment'), (['empowering', 'young', 'leaders'], 'youth_empowerment'), (['next', 'generation', 'training'], 'youth_empowerment'), (['faith-based', 'education'], 'faith_based_education'), (['theological', 'training'], 'faith_based_education'), (['Christian', 'discipleship'], 'faith_based_education'), (['volunteer', 'opportunities'], 'volunteer_opportunities'), (['service', 'opportunities'], 'volunteer_opportunities'), (['community', 'service', 'projects'], 'volunteer_opportunities'), (['bank', 'deposits'], 'bank_deposits'), (['direct', 'bank', 'deposit'], 'bank_deposits'), (['bank', 'transfer'], 'bank_deposits'), (['international', 'giving'], 'international_giving'), (['donations', 'from', 'abroad'], 'international_giving'), (['overseas', 'donations'], 'international_giving'), (['Mpesa', 'Express'], 'mpesa_express'), (['mpesa', 'payment'], 'mpesa_express'), (['mobile', 'money', 'transfer'], 'mpesa_express'), (['credit', 'card'], 'credit_card_payment'), (['debit', 'card'], 'credit_card_payment'), (['card', 'payment'], 'credit_card_payment'), (['local', 'bank', 'details'], 'local_bank_details'), (['banking', 'information'], 'local_bank_details'), (['domestic', 'transfers'], 'local_bank_details'), (['Mpesa', 'Paybill'], 'mpesa_paybill'), (['paybill', 'number'], 'mpesa_paybill'), (['mobile', 'money', 'payment'], 'mpesa_paybill'), (['UK', 'Trust'], 'uk_trust'), (['iServe', 'Africa', 'UK'], 'uk_trust'), (['donations', 'from', 'the', 'UK'], 'uk_trust'), (['cheque', 'payments'], 'cheque_payments'), (['paying', 'by', 'cheque'], 'cheque_payments'), (['cheque', 'donation'], 'cheque_payments'), (['online', 'donation'], 'online_donation'), (['web', 'donation'], 'online_donation'), (['donate', 'online'], 'online_donation'), (['monthly', 'support'], 'monthly_support'), (['regular', 'donations'], 'monthly_support'), (['recurring', 'donations'], 'monthly_support'), (['volunteering'], 'volunteering'), (['volunteer', 'opportunities'], 'volunteering'), (['get', 'involved'], 'volunteering'), (['matching', 'gifts'], 'matching_gifts'), (['corporate', 'matching'], 'matching_gifts'), (['double', 'your', 'donation'], 'matching_gifts'), (['mobile', 'money', 'donations'], 'mobile_money_donations'), (['Airtel', 'Money', 'Paybill'], 'mobile_money_donations'), (['donate', 'via', 'mobile', 'money'], 'mobile_money_donations'), (['international', 'donations'], 'international_donations'), (['donate', 'from', 'overseas'], 'international_donations'), (['global', 'contributions'], 'international_donations'), (['local', 'donation', 'methods'], 'local_donation_methods'), (['Paybill', 'number'], 'local_donation_methods'), (['cheque', 'payments'], 'local_donation_methods'), (['testimonials'], 'testimonials'), (['success', 'stories'], 'testimonials'), (['impact', 'stories'], 'testimonials'), (['community', 'engagement'], 'community_engagement'), (['community', 'involvement'], 'community_engagement'), (['local', 'partnerships'], 'community_engagement'), (['training', 'and', 'development'], 'training_and_development'), (['skills', 'enhancement'], 'training_and_development'), (['capacity', 'building'], 'training_and_development'), (['cultural', 'sensitivity'], 'cultural_sensitivity'), (['cross-cultural', 'understanding'], 'cultural_sensitivity'), (['embracing', 'diversity'], 'cultural_sensitivity'), (['mentoring', 'program'], 'mentoring_program'), (['mentorship', 'opportunities'], 'mentoring_program'), (['guidance', 'and', 'support'], 'mentoring_program'), (['vision', 'for', 'the', 'future'], 'vision_for_the_future'), (['long-term', 'goals'], 'vision_for_the_future'), (['strategic', 'objectives'], 'vision_for_the_future'), (['newsletter', 'subscription'], 'newsletter_subscription'), (['email', 'updates'], 'newsletter_subscription'), (['subscribe', 'for', 'news'], 'newsletter_subscription'), (['Can', 'you', 'share', 'individual', 'testimonies', '?'], 'Individual Testimonies'), (['How', 'can', 'I', 'become', 'an', 'apprentice', '?'], 'Apprenticeship Details'), (['What', 'roles', 'do', 'apprentices', 'take', 'on', '?'], 'Apprenticeship Roles'), (['How', 'can', 'I', 'contact', 'iServe', 'Africa', '?'], 'Contact Information'), (['When', 'does', 'recruitment', 'for', 'apprenticeships', 'start', '?'], 'Future Recruitment'), (['Tell', 'me', 'about', 'the', 'current', 'apprentices', '.'], 'Current Apprentices')] \n",
      "\n",
      "108 classes\n",
      " ['Accountability', 'Apprenticeship Details', 'Apprenticeship Roles', 'Bible Teaching', 'Community Immersion', 'Contact Information', 'Contact_email', 'Copyright and Contact', 'Core Values', 'Current Apprentices', 'Evangelical Basis', 'Future Recruitment', 'History', 'Individual Testimonies', 'Introduction', 'Mission and Vision', 'Prayer', 'Statement of Faith', 'Testimony_experiences_stories', 'Workshops and Conferences', 'about', 'about_iserveafrica', 'application_process', 'apprentice_testimonials', 'apprentices', 'apprenticeship_benefits_experience', 'apprenticeship_programme', 'bank_deposits', 'begin', 'board_members', 'cheque_payments', 'community_engagement', 'community_immersion', 'contact_details', 'contact_information', 'copyright', 'credit_card_payment', 'cross_cultural_experience', 'cross_cultural_missions', 'cultural_sensitivity', 'discipleship_program', 'expository_preaching', 'faith_based_education', 'frontier_mission_work', 'fundraising_initiative', 'gospel_partnership', 'history', 'impact', 'impact_evaluation', 'individual_staff_info', 'intake_info', 'international_donations', 'international_giving', 'leadership_training', 'legal_registration', 'local_bank_details', 'local_donation_methods', 'matching_gifts', 'mentoring_program', 'mentorship', 'ministry_expansion', 'mission_conferences', 'mission_statement', 'mission_support', 'missionary_mentorship', 'missionary_placement', 'missionary_support', 'missionary_training', 'mobile_money_donations', 'monthly_support', 'mpesa_express', 'mpesa_paybill', 'nature', 'newsletter_subscription', 'norec_project', 'online_donation', 'participant_testimonials', 'partnership_commitment', 'partnership_model', 'partnerships_support_funding', 'placement_types', 'placements', 'post_program_impact', 'prayer_initiatives', 'program_application', 'program_benefits', 'program_content', 'program_details', 'program_duration', 'program_future', 'regional_ministry_staff', 'stewardship_plan', 'strategic_resources', 'testimonials', 'total_stats', 'training_and_development', 'training_centre_project', 'training_materials', 'uk_funding', 'uk_trust', 'utumishi_course', 'values', 'vision_for_the_future', 'vision_mission', 'volunteer_opportunities', 'volunteering', 'world_mission_prayers', 'youth_empowerment'] \n",
      "\n",
      "354 unique lemmatized words\n",
      " [\"'s\", '.', 'a', 'about', 'abroad', 'accountability', 'africa', 'afrika', 'after', 'agency', 'aim', 'airtel', 'all', 'an', 'and', 'annual', 'any', 'application', 'apply', 'apprentice', 'apprenticeship', 'approach', 'are', 'assessment', 'assignment', 'assistance', 'audio', 'available', 'background', 'bank', 'banking', 'basis', 'become', 'begin', 'beginning', 'behind', 'belief', 'believe', 'benefit', 'bible', 'board', 'building', 'by', 'call', 'camp', 'campaign', 'can', 'capacity', 'card', 'care', 'career', 'cbos', 'centre', 'channel', 'character', 'charity', 'cheque', 'child', 'christ', 'christian', 'church', 'collaborative', 'commitment', 'community', 'conducted', 'conference', 'contact', 'content', 'contribution', 'copyright', 'core', 'corporate', 'could', 'course', 'credit', 'cross-cultural', 'crucial', 'cultural', 'current', 'curriculum', 'daily', 'debit', 'deposit', 'detail', 'development', 'did', 'difference', 'direct', 'director', 'discipleship', 'diversity', 'do', 'doe', 'domestic', 'donate', 'donation', 'double', 'drive', 'duration', 'education', 'effectiveness', 'email', 'embracing', 'emphasis', 'empowering', 'empowerment', 'engage', 'engagement', 'enhancement', 'ensure', 'evaluation', 'evangelical', 'evangelism', 'event', 'exchange', 'executive', 'expanding', 'expansion', 'experience', 'explain', 'expository', 'express', 'faith', 'faith-based', 'feedback', 'financial', 'focus', 'for', 'form', 'founding', 'from', 'frontier', 'funding', 'fundraising', 'future', 'gain', 'gathering', 'generation', 'get', 'gift', 'giving', 'global', 'goal', 'gospel', 'governance', 'grassroots', 'group', 'growth', 'guidance', 'ha', 'have', 'healthcare', 'history', 'home', 'hospital', 'how', 'i', 'immersion', 'impact', 'important', 'in', 'individual', 'induction', 'information', 'initiative', 'intake', 'international', 'internship', 'investment', 'involved', 'involvement', 'is', 'iserve', 'january', 'join', 'journey', 'leader', 'leadership', 'learned', 'legal', 'length', 'lesson', 'life', 'link', 'local', 'location', 'long', 'long-term', 'made', 'matching', 'material', 'matter', 'me', 'member', 'mentor', 'mentoring', 'mentorship', 'method', 'ministry', 'mission', 'missionary', 'mobile', 'model', 'money', 'monthly', 'mpesa', 'nature', 'news', 'newsletter', 'next', 'norec', 'number', 'objective', 'of', 'offer', 'on', 'one-year', 'online', 'opportunity', 'or', 'organizational', 'organized', 'origin', 'outreach', 'overseas', 'overview', 'package', 'participant', 'partnering', 'partnership', 'passion', 'path', 'pathway', 'paybill', 'paying', 'payment', 'personal', 'philosophy', 'placement', 'plan', 'post-apprenticeship', 'post-program', 'practice', 'prayer', 'preaching', 'preparation', 'process', 'program', 'programme', 'project', 'prospect', 'provide', 'purpose', 'reach', 'receive', 'recording', 'recruitment', 'recurring', 'region', 'regional', 'registered', 'registration', 'regular', 'requirement', 'reserved', 'resource', 'responsibility', 'review', 'right', 'role', 'say', 'schedule', 'school', 'sensitivity', 'september', 'servant', 'serve', 'service', 'session', 'share', 'sharing', 'should', 'sign', 'skill', 'staff', 'start', 'statistic', 'status', 'step', 'stewardship', 'story', 'strategic', 'strategy', 'structure', 'subscribe', 'subscription', 'success', 'support', 'supporting', 'take', 'taught', 'tax-efficient', 'teach', 'teaching', 'team', 'tell', 'term', 'testimonial', 'testimony', 'the', 'theological', 'there', 'timeline', 'to', 'topic', 'total', 'touch', 'towards', 'trainer', 'training', 'transfer', 'transformd', 'trip', 'trust', 'type', 'u', 'uk', 'understanding', 'up', 'update', 'utumishi', 'value', 'vbs', 'via', 'vision', 'visit', 'volunteer', 'volunteering', 'wa', 'we', 'web', 'what', 'when', 'where', 'who', 'why', 'with', 'work', 'workshop', 'world', 'you', 'young', 'your', 'youth'] \n",
      "\n"
     ]
    }
   ],
   "source": [
    "# lemmatize, lower each word and remove duplicates\n",
    "words = [lemmatizer.lemmatize(w.lower()) for w in words if w not in ignore_words]\n",
    "words = sorted(list(set(words)))\n",
    "# sort classes\n",
    "classes = sorted(list(set(classes)))\n",
    "# documents = combination between patterns and intents\n",
    "print (len(documents), \"documents\\n\", documents, \"\\n\")\n",
    "# classes = intents[tag]\n",
    "print (len(classes), \"classes\\n\", classes, \"\\n\")\n",
    "# words = all words, vocabulary\n",
    "print (len(words), \"unique lemmatized words\\n\", words, \"\\n\")\n",
    "pickle.dump(words,open('words.pkl','wb'))\n",
    "pickle.dump(classes,open('classes.pkl','wb'))"
   ]
  },
  {
   "cell_type": "markdown",
   "id": "4a818b1a",
   "metadata": {
    "id": "9f8f5df3",
    "papermill": {
     "duration": 0.007406,
     "end_time": "2023-02-23T05:12:44.166887",
     "exception": false,
     "start_time": "2023-02-23T05:12:44.159481",
     "status": "completed"
    },
    "tags": []
   },
   "source": [
    "# **Training Model**"
   ]
  },
  {
   "cell_type": "markdown",
   "id": "230e303f",
   "metadata": {
    "papermill": {
     "duration": 0.007284,
     "end_time": "2023-02-23T05:12:44.182031",
     "exception": false,
     "start_time": "2023-02-23T05:12:44.174747",
     "status": "completed"
    },
    "tags": []
   },
   "source": [
    "Now, we will create the training data in which we will provide the input and the output. \n",
    "- Our input will be the pattern and output will be the class our input pattern belongs to. But the computer doesn’t understand text so we will convert text into numbers"
   ]
  },
  {
   "cell_type": "code",
   "execution_count": 9,
   "id": "e3df0178",
   "metadata": {
    "execution": {
     "iopub.execute_input": "2023-02-23T05:12:44.199587Z",
     "iopub.status.busy": "2023-02-23T05:12:44.199070Z",
     "iopub.status.idle": "2023-02-23T05:12:44.248365Z",
     "shell.execute_reply": "2023-02-23T05:12:44.246445Z"
    },
    "id": "d847cc41",
    "outputId": "0ca247d5-1c16-41c6-fbd8-4c22fb030298",
    "papermill": {
     "duration": 0.06165,
     "end_time": "2023-02-23T05:12:44.251354",
     "exception": false,
     "start_time": "2023-02-23T05:12:44.189704",
     "status": "completed"
    },
    "tags": []
   },
   "outputs": [
    {
     "name": "stdout",
     "output_type": "stream",
     "text": [
      "Training data created\n"
     ]
    }
   ],
   "source": [
    "# create our training data\n",
    "training = []\n",
    "# create an empty array for our output\n",
    "output_empty = [0] * len(classes)\n",
    "# training set, bag of words for each sentence\n",
    "for doc in documents:\n",
    "    # initialize our bag of words\n",
    "    bag = []\n",
    "    # list of tokenized words\n",
    "    pattern_words = doc[0]\n",
    "    # convert pattern_words in lower case\n",
    "    pattern_words = [lemmatizer.lemmatize(word.lower()) for word in pattern_words]\n",
    "    # create bag of words array,if word match found in current pattern then put 1 otherwise 0.[row * colm(263)]\n",
    "    for w in words:\n",
    "        bag.append(1) if w in pattern_words else bag.append(0)\n",
    "    \n",
    "    # in output array 0 value for each tag ang 1 value for matched tag.[row * colm(8)]\n",
    "    output_row = list(output_empty)\n",
    "    output_row[classes.index(doc[1])] = 1\n",
    "    \n",
    "    training.append([bag, output_row])\n",
    "# shuffle training and turn into np.array\n",
    "random.shuffle(training)\n",
    "training = np.array(training)\n",
    "# create train and test. X - patterns(words), Y - intents(tags)\n",
    "train_x = list(training[:,0])\n",
    "train_y = list(training[:,1])\n",
    "print(\"Training data created\")"
   ]
  },
  {
   "cell_type": "code",
   "execution_count": 10,
   "id": "f55abcf8",
   "metadata": {
    "execution": {
     "iopub.execute_input": "2023-02-23T05:12:44.268957Z",
     "iopub.status.busy": "2023-02-23T05:12:44.268414Z",
     "iopub.status.idle": "2023-02-23T05:12:44.274589Z",
     "shell.execute_reply": "2023-02-23T05:12:44.273124Z"
    },
    "id": "a002459e",
    "papermill": {
     "duration": 0.017842,
     "end_time": "2023-02-23T05:12:44.277079",
     "exception": false,
     "start_time": "2023-02-23T05:12:44.259237",
     "status": "completed"
    },
    "tags": []
   },
   "outputs": [],
   "source": [
    "from tensorflow.python.framework import ops\n",
    "ops.reset_default_graph()"
   ]
  },
  {
   "cell_type": "markdown",
   "id": "e26e37eb",
   "metadata": {
    "papermill": {
     "duration": 0.007489,
     "end_time": "2023-02-23T05:12:44.292236",
     "exception": false,
     "start_time": "2023-02-23T05:12:44.284747",
     "status": "completed"
    },
    "tags": []
   },
   "source": [
    "# **Build the model** "
   ]
  },
  {
   "cell_type": "markdown",
   "id": "154c186a",
   "metadata": {
    "papermill": {
     "duration": 0.007132,
     "end_time": "2023-02-23T05:12:44.306966",
     "exception": false,
     "start_time": "2023-02-23T05:12:44.299834",
     "status": "completed"
    },
    "tags": []
   },
   "source": [
    "We have our training data ready, now we will build a deep neural network that has 3 layers. We use the Keras sequential API for this. After training the model for 200 epochs, we achieved 100% accuracy on our model. Let us save the model as ‘chatbot_model.h5'."
   ]
  },
  {
   "cell_type": "code",
   "execution_count": 11,
   "id": "1b452b16",
   "metadata": {
    "execution": {
     "iopub.execute_input": "2023-02-23T05:12:44.325280Z",
     "iopub.status.busy": "2023-02-23T05:12:44.324495Z",
     "iopub.status.idle": "2023-02-23T05:12:44.484893Z",
     "shell.execute_reply": "2023-02-23T05:12:44.483363Z"
    },
    "id": "0326b0b8",
    "outputId": "3961859b-9073-4378-fdff-bf570249b7a9",
    "papermill": {
     "duration": 0.172929,
     "end_time": "2023-02-23T05:12:44.487916",
     "exception": false,
     "start_time": "2023-02-23T05:12:44.314987",
     "status": "completed"
    },
    "tags": []
   },
   "outputs": [
    {
     "name": "stdout",
     "output_type": "stream",
     "text": [
      "WARNING:tensorflow:From C:\\Users\\gicha\\anaconda3\\lib\\site-packages\\keras\\src\\backend.py:873: The name tf.get_default_graph is deprecated. Please use tf.compat.v1.get_default_graph instead.\n",
      "\n",
      "First layer: [[ 0.08274695  0.05851296  0.08639891 ...  0.07655198 -0.04375339\n",
      "  -0.06947809]\n",
      " [-0.10285683  0.10568642  0.0158431  ... -0.05827478 -0.10616069\n",
      "  -0.06305213]\n",
      " [ 0.07818552  0.06454479 -0.09565143 ... -0.10787142 -0.04560909\n",
      "   0.07865577]\n",
      " ...\n",
      " [ 0.01430487 -0.02923286  0.10825484 ... -0.04950082 -0.07278948\n",
      "   0.10079341]\n",
      " [-0.02733597  0.03685733  0.05918891 ...  0.05796736  0.05342748\n",
      "  -0.08087586]\n",
      " [ 0.07793497  0.03087769 -0.08346767 ... -0.07847364  0.04723107\n",
      "  -0.08878833]]\n"
     ]
    }
   ],
   "source": [
    "# Create model - 3 layers. First layer 128 neurons, second layer 64 neurons and 3rd output layer contains number of neurons\n",
    "# equal to number of intents to predict output intent with softmax\n",
    "model = Sequential()\n",
    "model.add(Dense(128, input_shape=(len(train_x[0]),), activation='relu'))\n",
    "model.add(Dropout(0.5))\n",
    "model.add(Dense(64, activation='relu'))\n",
    "model.add(Dropout(0.5))\n",
    "model.add(Dense(len(train_y[0]), activation='softmax'))\n",
    "print(\"First layer:\",model.layers[0].get_weights()[0])"
   ]
  },
  {
   "cell_type": "code",
   "execution_count": 12,
   "id": "b4ada84d",
   "metadata": {
    "execution": {
     "iopub.execute_input": "2023-02-23T05:12:44.506211Z",
     "iopub.status.busy": "2023-02-23T05:12:44.505671Z",
     "iopub.status.idle": "2023-02-23T05:12:44.868268Z",
     "shell.execute_reply": "2023-02-23T05:12:44.866865Z"
    },
    "id": "33cf80df",
    "papermill": {
     "duration": 0.375517,
     "end_time": "2023-02-23T05:12:44.871525",
     "exception": false,
     "start_time": "2023-02-23T05:12:44.496008",
     "status": "completed"
    },
    "tags": []
   },
   "outputs": [
    {
     "name": "stdout",
     "output_type": "stream",
     "text": [
      "WARNING:tensorflow:From C:\\Users\\gicha\\anaconda3\\lib\\site-packages\\keras\\src\\optimizers\\__init__.py:309: The name tf.train.Optimizer is deprecated. Please use tf.compat.v1.train.Optimizer instead.\n",
      "\n"
     ]
    }
   ],
   "source": [
    "# Compile model. Stochastic gradient descent with Nesterov accelerated gradient gives good results for this model\n",
    "# sgd = SGD(lr=0.01, decay=1e-6, momentum=0.9, nesterov=True)\n",
    "model.compile(loss='categorical_crossentropy', optimizer='adam', metrics=['accuracy'])"
   ]
  },
  {
   "cell_type": "code",
   "execution_count": 13,
   "id": "f836664a",
   "metadata": {
    "execution": {
     "iopub.execute_input": "2023-02-23T05:12:44.889267Z",
     "iopub.status.busy": "2023-02-23T05:12:44.888766Z",
     "iopub.status.idle": "2023-02-23T05:13:22.554903Z",
     "shell.execute_reply": "2023-02-23T05:13:22.553344Z"
    },
    "id": "dd9caaa2",
    "outputId": "e1a9fb02-ea70-49ea-c742-de37f795d0c6",
    "papermill": {
     "duration": 37.679106,
     "end_time": "2023-02-23T05:13:22.558445",
     "exception": false,
     "start_time": "2023-02-23T05:12:44.879339",
     "status": "completed"
    },
    "tags": []
   },
   "outputs": [
    {
     "name": "stdout",
     "output_type": "stream",
     "text": [
      "Epoch 1/200\n",
      "WARNING:tensorflow:From C:\\Users\\gicha\\anaconda3\\lib\\site-packages\\keras\\src\\utils\\tf_utils.py:492: The name tf.ragged.RaggedTensorValue is deprecated. Please use tf.compat.v1.ragged.RaggedTensorValue instead.\n",
      "\n",
      "WARNING:tensorflow:From C:\\Users\\gicha\\anaconda3\\lib\\site-packages\\keras\\src\\engine\\base_layer_utils.py:384: The name tf.executing_eagerly_outside_functions is deprecated. Please use tf.compat.v1.executing_eagerly_outside_functions instead.\n",
      "\n",
      "90/90 [==============================] - 2s 3ms/step - loss: 4.6726 - accuracy: 0.0134\n",
      "Epoch 2/200\n",
      "90/90 [==============================] - 0s 3ms/step - loss: 4.5791 - accuracy: 0.0848\n",
      "Epoch 3/200\n",
      "90/90 [==============================] - 0s 3ms/step - loss: 4.3761 - accuracy: 0.1138\n",
      "Epoch 4/200\n",
      "90/90 [==============================] - 0s 3ms/step - loss: 4.1639 - accuracy: 0.1094\n",
      "Epoch 5/200\n",
      "90/90 [==============================] - 0s 3ms/step - loss: 3.9494 - accuracy: 0.1585\n",
      "Epoch 6/200\n",
      "90/90 [==============================] - 0s 3ms/step - loss: 3.7049 - accuracy: 0.1719\n",
      "Epoch 7/200\n",
      "90/90 [==============================] - 0s 3ms/step - loss: 3.5596 - accuracy: 0.2143\n",
      "Epoch 8/200\n",
      "90/90 [==============================] - 0s 3ms/step - loss: 3.3569 - accuracy: 0.2321\n",
      "Epoch 9/200\n",
      "90/90 [==============================] - 0s 3ms/step - loss: 3.2161 - accuracy: 0.2478\n",
      "Epoch 10/200\n",
      "90/90 [==============================] - 0s 3ms/step - loss: 3.0905 - accuracy: 0.2746\n",
      "Epoch 11/200\n",
      "90/90 [==============================] - 0s 3ms/step - loss: 2.9422 - accuracy: 0.2924\n",
      "Epoch 12/200\n",
      "90/90 [==============================] - 0s 3ms/step - loss: 2.7220 - accuracy: 0.3326\n",
      "Epoch 13/200\n",
      "90/90 [==============================] - 0s 3ms/step - loss: 2.6695 - accuracy: 0.3326\n",
      "Epoch 14/200\n",
      "90/90 [==============================] - 0s 3ms/step - loss: 2.5834 - accuracy: 0.3638\n",
      "Epoch 15/200\n",
      "90/90 [==============================] - 0s 3ms/step - loss: 2.3534 - accuracy: 0.3728\n",
      "Epoch 16/200\n",
      "90/90 [==============================] - 0s 3ms/step - loss: 2.2965 - accuracy: 0.4420\n",
      "Epoch 17/200\n",
      "90/90 [==============================] - 0s 3ms/step - loss: 2.2067 - accuracy: 0.4397\n",
      "Epoch 18/200\n",
      "90/90 [==============================] - 0s 3ms/step - loss: 2.1438 - accuracy: 0.4397\n",
      "Epoch 19/200\n",
      "90/90 [==============================] - 0s 3ms/step - loss: 2.0455 - accuracy: 0.4777\n",
      "Epoch 20/200\n",
      "90/90 [==============================] - 0s 3ms/step - loss: 1.9311 - accuracy: 0.4911\n",
      "Epoch 21/200\n",
      "90/90 [==============================] - 0s 3ms/step - loss: 1.8340 - accuracy: 0.5290\n",
      "Epoch 22/200\n",
      "90/90 [==============================] - 0s 3ms/step - loss: 1.7982 - accuracy: 0.5223\n",
      "Epoch 23/200\n",
      "90/90 [==============================] - 0s 3ms/step - loss: 1.6636 - accuracy: 0.5670\n",
      "Epoch 24/200\n",
      "90/90 [==============================] - 0s 3ms/step - loss: 1.7098 - accuracy: 0.5491\n",
      "Epoch 25/200\n",
      "90/90 [==============================] - 0s 3ms/step - loss: 1.6204 - accuracy: 0.5603\n",
      "Epoch 26/200\n",
      "90/90 [==============================] - 0s 3ms/step - loss: 1.5233 - accuracy: 0.5647\n",
      "Epoch 27/200\n",
      "90/90 [==============================] - 0s 3ms/step - loss: 1.5198 - accuracy: 0.5982\n",
      "Epoch 28/200\n",
      "90/90 [==============================] - 0s 3ms/step - loss: 1.4891 - accuracy: 0.6161\n",
      "Epoch 29/200\n",
      "90/90 [==============================] - 0s 4ms/step - loss: 1.4321 - accuracy: 0.6228\n",
      "Epoch 30/200\n",
      "90/90 [==============================] - 0s 3ms/step - loss: 1.3798 - accuracy: 0.6228\n",
      "Epoch 31/200\n",
      "90/90 [==============================] - 0s 3ms/step - loss: 1.3670 - accuracy: 0.6138\n",
      "Epoch 32/200\n",
      "90/90 [==============================] - 0s 3ms/step - loss: 1.2975 - accuracy: 0.6161\n",
      "Epoch 33/200\n",
      "90/90 [==============================] - 0s 3ms/step - loss: 1.2536 - accuracy: 0.6607\n",
      "Epoch 34/200\n",
      "90/90 [==============================] - 0s 3ms/step - loss: 1.1600 - accuracy: 0.6540\n",
      "Epoch 35/200\n",
      "90/90 [==============================] - 0s 3ms/step - loss: 1.2115 - accuracy: 0.6429\n",
      "Epoch 36/200\n",
      "90/90 [==============================] - 0s 3ms/step - loss: 1.0905 - accuracy: 0.6786\n",
      "Epoch 37/200\n",
      "90/90 [==============================] - 0s 3ms/step - loss: 1.1481 - accuracy: 0.6518\n",
      "Epoch 38/200\n",
      "90/90 [==============================] - 0s 3ms/step - loss: 1.1264 - accuracy: 0.7009\n",
      "Epoch 39/200\n",
      "90/90 [==============================] - 0s 3ms/step - loss: 1.0965 - accuracy: 0.6518\n",
      "Epoch 40/200\n",
      "90/90 [==============================] - 0s 3ms/step - loss: 1.0635 - accuracy: 0.6607\n",
      "Epoch 41/200\n",
      "90/90 [==============================] - 0s 3ms/step - loss: 1.0095 - accuracy: 0.7054\n",
      "Epoch 42/200\n",
      "90/90 [==============================] - 0s 3ms/step - loss: 1.0040 - accuracy: 0.7165\n",
      "Epoch 43/200\n",
      "90/90 [==============================] - 0s 3ms/step - loss: 1.0689 - accuracy: 0.6607\n",
      "Epoch 44/200\n",
      "90/90 [==============================] - 0s 3ms/step - loss: 0.9399 - accuracy: 0.7254\n",
      "Epoch 45/200\n",
      "90/90 [==============================] - 0s 3ms/step - loss: 0.9448 - accuracy: 0.7344\n",
      "Epoch 46/200\n",
      "90/90 [==============================] - 0s 3ms/step - loss: 0.8716 - accuracy: 0.7433\n",
      "Epoch 47/200\n",
      "90/90 [==============================] - 0s 3ms/step - loss: 0.8602 - accuracy: 0.7500\n",
      "Epoch 48/200\n",
      "90/90 [==============================] - 0s 3ms/step - loss: 0.9921 - accuracy: 0.6875\n",
      "Epoch 49/200\n",
      "90/90 [==============================] - 0s 3ms/step - loss: 0.9221 - accuracy: 0.7188\n",
      "Epoch 50/200\n",
      "90/90 [==============================] - 0s 3ms/step - loss: 0.8896 - accuracy: 0.7277\n",
      "Epoch 51/200\n",
      "90/90 [==============================] - 0s 3ms/step - loss: 0.8794 - accuracy: 0.7232\n",
      "Epoch 52/200\n",
      "90/90 [==============================] - 0s 3ms/step - loss: 0.8446 - accuracy: 0.7433\n",
      "Epoch 53/200\n",
      "90/90 [==============================] - 0s 3ms/step - loss: 0.8854 - accuracy: 0.7254\n",
      "Epoch 54/200\n",
      "90/90 [==============================] - 0s 3ms/step - loss: 0.8301 - accuracy: 0.7545\n",
      "Epoch 55/200\n",
      "90/90 [==============================] - 0s 3ms/step - loss: 0.8141 - accuracy: 0.7567\n",
      "Epoch 56/200\n",
      "90/90 [==============================] - 0s 3ms/step - loss: 0.7778 - accuracy: 0.7545\n",
      "Epoch 57/200\n",
      "90/90 [==============================] - 0s 3ms/step - loss: 0.7870 - accuracy: 0.7634\n",
      "Epoch 58/200\n",
      "90/90 [==============================] - 0s 3ms/step - loss: 0.7524 - accuracy: 0.7634\n",
      "Epoch 59/200\n",
      "90/90 [==============================] - 0s 3ms/step - loss: 0.7458 - accuracy: 0.7679\n",
      "Epoch 60/200\n",
      "90/90 [==============================] - 0s 3ms/step - loss: 0.7195 - accuracy: 0.7924\n",
      "Epoch 61/200\n",
      "90/90 [==============================] - 0s 3ms/step - loss: 0.7190 - accuracy: 0.7522\n",
      "Epoch 62/200\n",
      "90/90 [==============================] - 0s 3ms/step - loss: 0.7664 - accuracy: 0.7679\n",
      "Epoch 63/200\n",
      "90/90 [==============================] - 0s 3ms/step - loss: 0.7536 - accuracy: 0.7723\n",
      "Epoch 64/200\n",
      "90/90 [==============================] - 0s 3ms/step - loss: 0.7289 - accuracy: 0.7634\n",
      "Epoch 65/200\n",
      "90/90 [==============================] - 0s 3ms/step - loss: 0.7358 - accuracy: 0.7634\n",
      "Epoch 66/200\n",
      "90/90 [==============================] - 0s 3ms/step - loss: 0.8074 - accuracy: 0.7433\n",
      "Epoch 67/200\n",
      "90/90 [==============================] - 0s 3ms/step - loss: 0.7371 - accuracy: 0.7589\n",
      "Epoch 68/200\n",
      "90/90 [==============================] - 0s 3ms/step - loss: 0.7250 - accuracy: 0.7902\n",
      "Epoch 69/200\n",
      "90/90 [==============================] - 0s 3ms/step - loss: 0.6771 - accuracy: 0.7946\n",
      "Epoch 70/200\n",
      "90/90 [==============================] - 0s 3ms/step - loss: 0.7857 - accuracy: 0.7478\n",
      "Epoch 71/200\n",
      "90/90 [==============================] - 0s 3ms/step - loss: 0.6919 - accuracy: 0.7768\n",
      "Epoch 72/200\n",
      "90/90 [==============================] - 0s 3ms/step - loss: 0.6114 - accuracy: 0.8080\n",
      "Epoch 73/200\n",
      "90/90 [==============================] - 0s 3ms/step - loss: 0.6599 - accuracy: 0.7879\n",
      "Epoch 74/200\n",
      "90/90 [==============================] - 0s 3ms/step - loss: 0.7321 - accuracy: 0.7857\n",
      "Epoch 75/200\n",
      "90/90 [==============================] - 0s 3ms/step - loss: 0.6205 - accuracy: 0.8013\n",
      "Epoch 76/200\n",
      "90/90 [==============================] - 0s 3ms/step - loss: 0.6630 - accuracy: 0.8125\n",
      "Epoch 77/200\n",
      "90/90 [==============================] - 0s 3ms/step - loss: 0.6085 - accuracy: 0.7991\n",
      "Epoch 78/200\n"
     ]
    },
    {
     "name": "stdout",
     "output_type": "stream",
     "text": [
      "90/90 [==============================] - 0s 3ms/step - loss: 0.6574 - accuracy: 0.7790\n",
      "Epoch 79/200\n",
      "90/90 [==============================] - 0s 3ms/step - loss: 0.6679 - accuracy: 0.7746\n",
      "Epoch 80/200\n",
      "90/90 [==============================] - 0s 3ms/step - loss: 0.5895 - accuracy: 0.8237\n",
      "Epoch 81/200\n",
      "90/90 [==============================] - 0s 3ms/step - loss: 0.5945 - accuracy: 0.8304\n",
      "Epoch 82/200\n",
      "90/90 [==============================] - 0s 3ms/step - loss: 0.6409 - accuracy: 0.7835\n",
      "Epoch 83/200\n",
      "90/90 [==============================] - 0s 3ms/step - loss: 0.6566 - accuracy: 0.7946\n",
      "Epoch 84/200\n",
      "90/90 [==============================] - 0s 3ms/step - loss: 0.6742 - accuracy: 0.7879\n",
      "Epoch 85/200\n",
      "90/90 [==============================] - 0s 3ms/step - loss: 0.6030 - accuracy: 0.7991\n",
      "Epoch 86/200\n",
      "90/90 [==============================] - 0s 3ms/step - loss: 0.5683 - accuracy: 0.8058\n",
      "Epoch 87/200\n",
      "90/90 [==============================] - 0s 3ms/step - loss: 0.5643 - accuracy: 0.8103\n",
      "Epoch 88/200\n",
      "90/90 [==============================] - 0s 3ms/step - loss: 0.5285 - accuracy: 0.8192\n",
      "Epoch 89/200\n",
      "90/90 [==============================] - 0s 3ms/step - loss: 0.5304 - accuracy: 0.8259\n",
      "Epoch 90/200\n",
      "90/90 [==============================] - 0s 3ms/step - loss: 0.6632 - accuracy: 0.7879\n",
      "Epoch 91/200\n",
      "90/90 [==============================] - 0s 3ms/step - loss: 0.5618 - accuracy: 0.8080\n",
      "Epoch 92/200\n",
      "90/90 [==============================] - 0s 3ms/step - loss: 0.6310 - accuracy: 0.7790\n",
      "Epoch 93/200\n",
      "90/90 [==============================] - 0s 3ms/step - loss: 0.4962 - accuracy: 0.8393\n",
      "Epoch 94/200\n",
      "90/90 [==============================] - 0s 3ms/step - loss: 0.5310 - accuracy: 0.8170\n",
      "Epoch 95/200\n",
      "90/90 [==============================] - 0s 3ms/step - loss: 0.4712 - accuracy: 0.8527\n",
      "Epoch 96/200\n",
      "90/90 [==============================] - 0s 3ms/step - loss: 0.5718 - accuracy: 0.8080\n",
      "Epoch 97/200\n",
      "90/90 [==============================] - 0s 3ms/step - loss: 0.5401 - accuracy: 0.8058\n",
      "Epoch 98/200\n",
      "90/90 [==============================] - 0s 3ms/step - loss: 0.5295 - accuracy: 0.8348\n",
      "Epoch 99/200\n",
      "90/90 [==============================] - 0s 3ms/step - loss: 0.5497 - accuracy: 0.8237\n",
      "Epoch 100/200\n",
      "90/90 [==============================] - 0s 3ms/step - loss: 0.5521 - accuracy: 0.8013\n",
      "Epoch 101/200\n",
      "90/90 [==============================] - 0s 3ms/step - loss: 0.5237 - accuracy: 0.8237\n",
      "Epoch 102/200\n",
      "90/90 [==============================] - 0s 3ms/step - loss: 0.4933 - accuracy: 0.8326\n",
      "Epoch 103/200\n",
      "90/90 [==============================] - 0s 3ms/step - loss: 0.5937 - accuracy: 0.7969\n",
      "Epoch 104/200\n",
      "90/90 [==============================] - 0s 3ms/step - loss: 0.5252 - accuracy: 0.8214\n",
      "Epoch 105/200\n",
      "90/90 [==============================] - 0s 3ms/step - loss: 0.4847 - accuracy: 0.8192\n",
      "Epoch 106/200\n",
      "90/90 [==============================] - 0s 3ms/step - loss: 0.4624 - accuracy: 0.8259\n",
      "Epoch 107/200\n",
      "90/90 [==============================] - 0s 3ms/step - loss: 0.4591 - accuracy: 0.8438\n",
      "Epoch 108/200\n",
      "90/90 [==============================] - 0s 3ms/step - loss: 0.5865 - accuracy: 0.7991\n",
      "Epoch 109/200\n",
      "90/90 [==============================] - 0s 3ms/step - loss: 0.5072 - accuracy: 0.8281\n",
      "Epoch 110/200\n",
      "90/90 [==============================] - 0s 3ms/step - loss: 0.4920 - accuracy: 0.8438\n",
      "Epoch 111/200\n",
      "90/90 [==============================] - 0s 3ms/step - loss: 0.4772 - accuracy: 0.8304\n",
      "Epoch 112/200\n",
      "90/90 [==============================] - 0s 3ms/step - loss: 0.5014 - accuracy: 0.8170\n",
      "Epoch 113/200\n",
      "90/90 [==============================] - 0s 3ms/step - loss: 0.5371 - accuracy: 0.8170\n",
      "Epoch 114/200\n",
      "90/90 [==============================] - 0s 3ms/step - loss: 0.4535 - accuracy: 0.8371\n",
      "Epoch 115/200\n",
      "90/90 [==============================] - 0s 3ms/step - loss: 0.5380 - accuracy: 0.7991\n",
      "Epoch 116/200\n",
      "90/90 [==============================] - 0s 3ms/step - loss: 0.5163 - accuracy: 0.8281\n",
      "Epoch 117/200\n",
      "90/90 [==============================] - 0s 3ms/step - loss: 0.4406 - accuracy: 0.8527\n",
      "Epoch 118/200\n",
      "90/90 [==============================] - 0s 3ms/step - loss: 0.5515 - accuracy: 0.8058\n",
      "Epoch 119/200\n",
      "90/90 [==============================] - 0s 3ms/step - loss: 0.5290 - accuracy: 0.8103\n",
      "Epoch 120/200\n",
      "90/90 [==============================] - 0s 3ms/step - loss: 0.4661 - accuracy: 0.8393\n",
      "Epoch 121/200\n",
      "90/90 [==============================] - 0s 3ms/step - loss: 0.5416 - accuracy: 0.8058\n",
      "Epoch 122/200\n",
      "90/90 [==============================] - 0s 3ms/step - loss: 0.4438 - accuracy: 0.8326\n",
      "Epoch 123/200\n",
      "90/90 [==============================] - 0s 5ms/step - loss: 0.4840 - accuracy: 0.8460\n",
      "Epoch 124/200\n",
      "90/90 [==============================] - 0s 3ms/step - loss: 0.4614 - accuracy: 0.8281\n",
      "Epoch 125/200\n",
      "90/90 [==============================] - 0s 4ms/step - loss: 0.5543 - accuracy: 0.8147\n",
      "Epoch 126/200\n",
      "90/90 [==============================] - 0s 3ms/step - loss: 0.4178 - accuracy: 0.8594\n",
      "Epoch 127/200\n",
      "90/90 [==============================] - 0s 3ms/step - loss: 0.4682 - accuracy: 0.8549\n",
      "Epoch 128/200\n",
      "90/90 [==============================] - 0s 3ms/step - loss: 0.4344 - accuracy: 0.8549\n",
      "Epoch 129/200\n",
      "90/90 [==============================] - 0s 3ms/step - loss: 0.4764 - accuracy: 0.8326\n",
      "Epoch 130/200\n",
      "90/90 [==============================] - 0s 3ms/step - loss: 0.4413 - accuracy: 0.8438\n",
      "Epoch 131/200\n",
      "90/90 [==============================] - 0s 3ms/step - loss: 0.4596 - accuracy: 0.8415\n",
      "Epoch 132/200\n",
      "90/90 [==============================] - 0s 3ms/step - loss: 0.4683 - accuracy: 0.8438\n",
      "Epoch 133/200\n",
      "90/90 [==============================] - 0s 3ms/step - loss: 0.5118 - accuracy: 0.8281\n",
      "Epoch 134/200\n",
      "90/90 [==============================] - 0s 3ms/step - loss: 0.4415 - accuracy: 0.8415\n",
      "Epoch 135/200\n",
      "90/90 [==============================] - 0s 3ms/step - loss: 0.4415 - accuracy: 0.8482\n",
      "Epoch 136/200\n",
      "90/90 [==============================] - 0s 3ms/step - loss: 0.4803 - accuracy: 0.8304\n",
      "Epoch 137/200\n",
      "90/90 [==============================] - 0s 3ms/step - loss: 0.4270 - accuracy: 0.8482\n",
      "Epoch 138/200\n",
      "90/90 [==============================] - 0s 3ms/step - loss: 0.4482 - accuracy: 0.8482\n",
      "Epoch 139/200\n",
      "90/90 [==============================] - 0s 3ms/step - loss: 0.4563 - accuracy: 0.8393\n",
      "Epoch 140/200\n",
      "90/90 [==============================] - 0s 3ms/step - loss: 0.4214 - accuracy: 0.8393\n",
      "Epoch 141/200\n",
      "90/90 [==============================] - 0s 3ms/step - loss: 0.4795 - accuracy: 0.8393\n",
      "Epoch 142/200\n",
      "90/90 [==============================] - 0s 3ms/step - loss: 0.3870 - accuracy: 0.8527\n",
      "Epoch 143/200\n",
      "90/90 [==============================] - 0s 3ms/step - loss: 0.4318 - accuracy: 0.8527\n",
      "Epoch 144/200\n",
      "90/90 [==============================] - 0s 3ms/step - loss: 0.3539 - accuracy: 0.8795\n",
      "Epoch 145/200\n",
      "90/90 [==============================] - 0s 3ms/step - loss: 0.4856 - accuracy: 0.8326\n",
      "Epoch 146/200\n",
      "90/90 [==============================] - 0s 3ms/step - loss: 0.4290 - accuracy: 0.8549\n",
      "Epoch 147/200\n",
      "90/90 [==============================] - 0s 3ms/step - loss: 0.4410 - accuracy: 0.8504\n",
      "Epoch 148/200\n",
      "90/90 [==============================] - 0s 3ms/step - loss: 0.4456 - accuracy: 0.8527\n",
      "Epoch 149/200\n",
      "90/90 [==============================] - 0s 3ms/step - loss: 0.4245 - accuracy: 0.8415\n",
      "Epoch 150/200\n",
      "90/90 [==============================] - 0s 3ms/step - loss: 0.3679 - accuracy: 0.8705\n",
      "Epoch 151/200\n",
      "90/90 [==============================] - 0s 3ms/step - loss: 0.4587 - accuracy: 0.8371\n",
      "Epoch 152/200\n",
      "90/90 [==============================] - 0s 3ms/step - loss: 0.4338 - accuracy: 0.8348\n",
      "Epoch 153/200\n",
      "90/90 [==============================] - 0s 3ms/step - loss: 0.4496 - accuracy: 0.8571\n",
      "Epoch 154/200\n",
      "90/90 [==============================] - 0s 3ms/step - loss: 0.4086 - accuracy: 0.8616\n",
      "Epoch 155/200\n",
      "90/90 [==============================] - 0s 3ms/step - loss: 0.4180 - accuracy: 0.8504\n",
      "Epoch 156/200\n",
      "90/90 [==============================] - 0s 3ms/step - loss: 0.4585 - accuracy: 0.8348\n",
      "Epoch 157/200\n",
      "90/90 [==============================] - 0s 3ms/step - loss: 0.4397 - accuracy: 0.8482\n",
      "Epoch 158/200\n",
      "90/90 [==============================] - 0s 3ms/step - loss: 0.4437 - accuracy: 0.8438\n",
      "Epoch 159/200\n"
     ]
    },
    {
     "name": "stdout",
     "output_type": "stream",
     "text": [
      "90/90 [==============================] - 0s 3ms/step - loss: 0.4157 - accuracy: 0.8504\n",
      "Epoch 160/200\n",
      "90/90 [==============================] - 0s 3ms/step - loss: 0.4252 - accuracy: 0.8304\n",
      "Epoch 161/200\n",
      "90/90 [==============================] - 0s 3ms/step - loss: 0.3644 - accuracy: 0.8705\n",
      "Epoch 162/200\n",
      "90/90 [==============================] - 0s 3ms/step - loss: 0.3952 - accuracy: 0.8549\n",
      "Epoch 163/200\n",
      "90/90 [==============================] - 0s 3ms/step - loss: 0.4224 - accuracy: 0.8504\n",
      "Epoch 164/200\n",
      "90/90 [==============================] - 0s 3ms/step - loss: 0.4359 - accuracy: 0.8549\n",
      "Epoch 165/200\n",
      "90/90 [==============================] - 0s 3ms/step - loss: 0.3572 - accuracy: 0.8661\n",
      "Epoch 166/200\n",
      "90/90 [==============================] - 0s 3ms/step - loss: 0.4032 - accuracy: 0.8549\n",
      "Epoch 167/200\n",
      "90/90 [==============================] - 0s 3ms/step - loss: 0.3840 - accuracy: 0.8594\n",
      "Epoch 168/200\n",
      "90/90 [==============================] - 0s 3ms/step - loss: 0.4117 - accuracy: 0.8415\n",
      "Epoch 169/200\n",
      "90/90 [==============================] - 0s 3ms/step - loss: 0.4416 - accuracy: 0.8214\n",
      "Epoch 170/200\n",
      "90/90 [==============================] - 0s 3ms/step - loss: 0.4517 - accuracy: 0.8438\n",
      "Epoch 171/200\n",
      "90/90 [==============================] - 0s 3ms/step - loss: 0.3467 - accuracy: 0.8772\n",
      "Epoch 172/200\n",
      "90/90 [==============================] - 0s 3ms/step - loss: 0.4467 - accuracy: 0.8460\n",
      "Epoch 173/200\n",
      "90/90 [==============================] - 0s 3ms/step - loss: 0.3455 - accuracy: 0.8795\n",
      "Epoch 174/200\n",
      "90/90 [==============================] - 0s 3ms/step - loss: 0.3758 - accuracy: 0.8683\n",
      "Epoch 175/200\n",
      "90/90 [==============================] - 0s 3ms/step - loss: 0.4081 - accuracy: 0.8371\n",
      "Epoch 176/200\n",
      "90/90 [==============================] - 0s 3ms/step - loss: 0.3754 - accuracy: 0.8772\n",
      "Epoch 177/200\n",
      "90/90 [==============================] - 0s 3ms/step - loss: 0.4015 - accuracy: 0.8750\n",
      "Epoch 178/200\n",
      "90/90 [==============================] - 0s 3ms/step - loss: 0.3551 - accuracy: 0.8616\n",
      "Epoch 179/200\n",
      "90/90 [==============================] - 0s 3ms/step - loss: 0.4088 - accuracy: 0.8594\n",
      "Epoch 180/200\n",
      "90/90 [==============================] - 0s 3ms/step - loss: 0.2975 - accuracy: 0.8996\n",
      "Epoch 181/200\n",
      "90/90 [==============================] - 0s 3ms/step - loss: 0.4311 - accuracy: 0.8438\n",
      "Epoch 182/200\n",
      "90/90 [==============================] - 0s 3ms/step - loss: 0.4713 - accuracy: 0.8259\n",
      "Epoch 183/200\n",
      "90/90 [==============================] - 0s 3ms/step - loss: 0.3849 - accuracy: 0.8594\n",
      "Epoch 184/200\n",
      "90/90 [==============================] - 0s 3ms/step - loss: 0.3948 - accuracy: 0.8616\n",
      "Epoch 185/200\n",
      "90/90 [==============================] - 0s 3ms/step - loss: 0.4103 - accuracy: 0.8549\n",
      "Epoch 186/200\n",
      "90/90 [==============================] - 0s 3ms/step - loss: 0.3530 - accuracy: 0.8683\n",
      "Epoch 187/200\n",
      "90/90 [==============================] - 0s 3ms/step - loss: 0.3082 - accuracy: 0.8906\n",
      "Epoch 188/200\n",
      "90/90 [==============================] - 0s 3ms/step - loss: 0.3926 - accuracy: 0.8571\n",
      "Epoch 189/200\n",
      "90/90 [==============================] - 0s 3ms/step - loss: 0.3912 - accuracy: 0.8594\n",
      "Epoch 190/200\n",
      "90/90 [==============================] - 0s 3ms/step - loss: 0.3938 - accuracy: 0.8638\n",
      "Epoch 191/200\n",
      "90/90 [==============================] - 0s 3ms/step - loss: 0.4266 - accuracy: 0.8527\n",
      "Epoch 192/200\n",
      "90/90 [==============================] - 0s 3ms/step - loss: 0.4152 - accuracy: 0.8616\n",
      "Epoch 193/200\n",
      "90/90 [==============================] - 0s 3ms/step - loss: 0.3638 - accuracy: 0.8549\n",
      "Epoch 194/200\n",
      "90/90 [==============================] - 0s 3ms/step - loss: 0.3176 - accuracy: 0.8705\n",
      "Epoch 195/200\n",
      "90/90 [==============================] - 0s 3ms/step - loss: 0.4105 - accuracy: 0.8616\n",
      "Epoch 196/200\n",
      "90/90 [==============================] - 0s 3ms/step - loss: 0.3689 - accuracy: 0.8549\n",
      "Epoch 197/200\n",
      "90/90 [==============================] - 0s 3ms/step - loss: 0.3769 - accuracy: 0.8616\n",
      "Epoch 198/200\n",
      "90/90 [==============================] - 0s 3ms/step - loss: 0.3212 - accuracy: 0.8728\n",
      "Epoch 199/200\n",
      "90/90 [==============================] - 0s 3ms/step - loss: 0.3571 - accuracy: 0.8750\n",
      "Epoch 200/200\n",
      "90/90 [==============================] - 0s 3ms/step - loss: 0.4074 - accuracy: 0.8438\n",
      "model created\n"
     ]
    }
   ],
   "source": [
    "#fitting and saving the model \n",
    "hist = model.fit(np.array(train_x), np.array(train_y), epochs=200, batch_size=5, verbose=1)\n",
    "model.save('chatbot_model.h5', hist)\n",
    "\n",
    "print(\"model created\")\n"
   ]
  },
  {
   "cell_type": "markdown",
   "id": "653397e1",
   "metadata": {
    "papermill": {
     "duration": 0.085781,
     "end_time": "2023-02-23T05:13:22.734072",
     "exception": false,
     "start_time": "2023-02-23T05:13:22.648291",
     "status": "completed"
    },
    "tags": []
   },
   "source": [
    "# FOR PREDICTING RESPONSE\n",
    "### **You have to add or run this below script by loading model**"
   ]
  },
  {
   "cell_type": "code",
   "execution_count": null,
   "id": "a6b22185",
   "metadata": {
    "scrolled": true
   },
   "outputs": [
    {
     "name": "stdout",
     "output_type": "stream",
     "text": [
      "Enter Message:mini\n",
      "1/1 [==============================] - 0s 133ms/step\n",
      "You may need to rephrase your question.\n",
      "Enter Message:list of apprentices\n",
      "1/1 [==============================] - 0s 14ms/step\n",
      "The apprenticeship program at iServe Africa offers training opportunities for young individuals interested in Christian ministry. Contact the regional ministry staff for information on apprenticeship intake and opportunities.\n",
      "Enter Message:some apprentices in the program \n",
      "1/1 [==============================] - 0s 23ms/step\n",
      "The apprenticeship program at iServe Africa offers training opportunities for young individuals interested in Christian ministry. Contact the regional ministry staff for information on apprenticeship intake and opportunities.\n",
      "Enter Message:current apprentices\n",
      "1/1 [==============================] - 0s 31ms/step\n",
      "- Samuel (second mention): Served at Buruburu Baptist Church in Nairobi county for the first year, continuing for the second year.\n",
      "Enter Message:all current apprentices\n",
      "1/1 [==============================] - 0s 29ms/step\n",
      "- Lawi: Treasurer in the Christian Union, involved in welfare ministry, passionate about gospel preaching to the youths in his home church.\n",
      "Enter Message:another\n",
      "1/1 [==============================] - 0s 27ms/step\n",
      "You may need to rephrase your question.\n",
      "Enter Message:give names of some current apprentices\n",
      "1/1 [==============================] - 0s 17ms/step\n",
      "- Samson: Serving among the youth and children at EAPC Church at Ukasi in Kitui county for the second year.\n"
     ]
    }
   ],
   "source": [
    "from keras.models import load_model\n",
    "import json\n",
    "import pickle\n",
    "import numpy as np\n",
    "import nltk\n",
    "import random\n",
    "\n",
    "model = load_model('chatbot_model.h5')\n",
    "\n",
    "intents = json.loads(open('intents.json').read())\n",
    "words = pickle.load(open('words.pkl', 'rb'))\n",
    "classes = pickle.load(open('classes.pkl', 'rb'))\n",
    "\n",
    "lemmatizer = nltk.stem.WordNetLemmatizer()\n",
    "stop_words = set(nltk.corpus.stopwords.words('english'))\n",
    "\n",
    "def clean_up_sentence(sentence):\n",
    "    sentence_words = nltk.word_tokenize(sentence)\n",
    "    sentence_words = [lemmatizer.lemmatize(word.lower()) for word in sentence_words if word.lower() not in stop_words]\n",
    "    return sentence_words\n",
    "\n",
    "def bow(sentence, words, show_details=True):\n",
    "    sentence_words = clean_up_sentence(sentence)\n",
    "    bag = [0]*len(words)\n",
    "    for s in sentence_words:\n",
    "        for i, w in enumerate(words):\n",
    "            if w == s:\n",
    "                bag[i] = 1\n",
    "                if show_details:\n",
    "                    print(\"found in bag: %s\" % w)\n",
    "    return np.array(bag)\n",
    "\n",
    "def predict_class(sentence, model):\n",
    "    p = bow(sentence, words, show_details=False)\n",
    "    res = model.predict(np.array([p]))[0]\n",
    "    ERROR_THRESHOLD = 0.25\n",
    "    results = [[i, r] for i, r in enumerate(res) if r > ERROR_THRESHOLD]\n",
    "    results.sort(key=lambda x: x[1], reverse=True)\n",
    "    return_list = []\n",
    "    for r in results:\n",
    "        return_list.append({\"intent\": classes[r[0]], \"probability\": str(r[1])})\n",
    "    return return_list\n",
    "\n",
    "def getResponse(ints, intents_json):\n",
    "    tag = ints[0]['intent']\n",
    "    list_of_intents = intents_json['intents']\n",
    "    for i in list_of_intents:\n",
    "        if i['tag'] == tag:\n",
    "            result = random.choice(i['responses'])\n",
    "            break\n",
    "    return result\n",
    "\n",
    "def chatbot_response(text):\n",
    "    ints = predict_class(text, model)\n",
    "    res = getResponse(ints, intents)\n",
    "    return res\n",
    "\n",
    "start = True\n",
    "while start:\n",
    "    query = input('Enter Message:')\n",
    "    if query in ['quit','exit','bye']:\n",
    "        start = False\n",
    "        continue\n",
    "    try:\n",
    "        res = chatbot_response(query)\n",
    "        print(res)\n",
    "    except:\n",
    "        print('You may need to rephrase your question.')\n"
   ]
  },
  {
   "cell_type": "code",
   "execution_count": null,
   "id": "af442c56",
   "metadata": {},
   "outputs": [],
   "source": []
  }
 ],
 "metadata": {
  "kernelspec": {
   "display_name": "Python 3 (ipykernel)",
   "language": "python",
   "name": "python3"
  },
  "language_info": {
   "codemirror_mode": {
    "name": "ipython",
    "version": 3
   },
   "file_extension": ".py",
   "mimetype": "text/x-python",
   "name": "python",
   "nbconvert_exporter": "python",
   "pygments_lexer": "ipython3",
   "version": "3.10.9"
  },
  "papermill": {
   "default_parameters": {},
   "duration": 65.361653,
   "end_time": "2023-02-23T05:13:25.834630",
   "environment_variables": {},
   "exception": null,
   "input_path": "__notebook__.ipynb",
   "output_path": "__notebook__.ipynb",
   "parameters": {},
   "start_time": "2023-02-23T05:12:20.472977",
   "version": "2.3.4"
  }
 },
 "nbformat": 4,
 "nbformat_minor": 5
}
